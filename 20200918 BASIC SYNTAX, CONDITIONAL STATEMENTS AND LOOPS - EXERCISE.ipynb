{
 "cells": [
  {
   "cell_type": "markdown",
   "metadata": {},
   "source": [
    "# Exercise: Basic Syntax, Conditional Statements and Loops"
   ]
  },
  {
   "cell_type": "markdown",
   "metadata": {},
   "source": [
    "## 1.\tJenny's Secret Message\n",
    "\n",
    "Jenny studies programming with Python and wants to create a program that greets a user when he/she gives his/her name. Jenny however is in love with Johnny, and would like to greet him differently. Can you help her?"
   ]
  },
  {
   "cell_type": "code",
   "execution_count": null,
   "metadata": {},
   "outputs": [],
   "source": [
    "name = input()\n",
    "\n",
    "if name == \"Johnny\":\n",
    "    print(\"Hello, my love!\")\n",
    "else:\n",
    "    print(f\"Hello, {name}!\")"
   ]
  },
  {
   "cell_type": "markdown",
   "metadata": {},
   "source": [
    "## 2.\tDrink Something\n",
    "\n",
    "Kids drink toddy, Teens drink coke, Young adults drink beer, Adults drink whisky.<br>\n",
    "Make a program that receives an age, and returns what they drink.<br><br>\n",
    "Rules:<br>\n",
    "Kids under 14 years old.<br>\n",
    "Teens under 18 years old.<br>\n",
    "Young adults under 21 years old.<br>\n",
    "Adults above 21.<br><br>\n",
    "Note: All the values except the last one are inclusive!"
   ]
  },
  {
   "cell_type": "code",
   "execution_count": null,
   "metadata": {},
   "outputs": [],
   "source": [
    "age = int(input())\n",
    "\n",
    "if age <= 14:\n",
    "    print(\"drink toddy\")\n",
    "elif age <= 18:\n",
    "    print(\"drink coke\")\n",
    "elif age <= 21:\n",
    "    print(\"drink beer\")\n",
    "else:\n",
    "    print(\"drink whisky\")"
   ]
  },
  {
   "cell_type": "markdown",
   "metadata": {},
   "source": [
    "## 3.\tLeonardo DiCaprio Oscars\n",
    "\n",
    "Write a program that receives a single integer number and prints different messages depending on the number:\n",
    "-\tIf Oscar is 88 - \"Leo finally won the Oscar! Leo is happy\".\n",
    "-\tIf Oscar is 86 - \"Not even for Wolf of Wall Street?!\"\n",
    "-\tIf Oscar is not 88 nor 86 (and below 88) - \"When will you give Leo an Oscar?\"\n",
    "-\tIf Oscar is over 88 - \"Leo got one already!\"\n"
   ]
  },
  {
   "cell_type": "code",
   "execution_count": null,
   "metadata": {},
   "outputs": [],
   "source": [
    "number = int(input())\n",
    "\n",
    "if number == 88:\n",
    "    print(\"Leo finally won the Oscar! Leo is happy\")\n",
    "elif number == 86:\n",
    "    print(\"Not even for Wolf of Wall Street?!\")\n",
    "elif number < 88 and number != 86:\n",
    "    print(\"When will you give Leo an Oscar?\")\n",
    "else:\n",
    "    print(\"Leo got one already!\")"
   ]
  },
  {
   "cell_type": "markdown",
   "metadata": {},
   "source": [
    "## 4.\tDouble Char\n",
    "\n",
    "Given a string, you have to print a string in which each character (case-sensitive) is repeated."
   ]
  },
  {
   "cell_type": "code",
   "execution_count": null,
   "metadata": {},
   "outputs": [],
   "source": [
    "string = input()\n",
    "\n",
    "for i in range(len(string)):\n",
    "    print(string[i]*2, end='')"
   ]
  },
  {
   "cell_type": "markdown",
   "metadata": {},
   "source": [
    "## 5.\tCan't Sleep? Count Sheep\n",
    "\n",
    "If you can't sleep, just count sheep! Given a non-negative integer, 3 for example, return a string with a murmur: \"1 sheep...2 sheep...3 sheep...\" Input will always be valid, i.e. no negative integers."
   ]
  },
  {
   "cell_type": "code",
   "execution_count": null,
   "metadata": {},
   "outputs": [],
   "source": [
    "count = int(input())\n",
    "\n",
    "for i in range(1, count+1):\n",
    "    print(f\"{i} sheep...\", end='')"
   ]
  },
  {
   "cell_type": "markdown",
   "metadata": {},
   "source": [
    "## 6.\tNext Happy Year\n",
    "\n",
    "You're saying good-bye your best friend, \"See you next happy year\". Happy Year is the year with only distinct digits, (e.g) 2018. Write a program that receives an integer number and finds the next happy year."
   ]
  },
  {
   "cell_type": "code",
   "execution_count": null,
   "metadata": {},
   "outputs": [],
   "source": [
    "year = int(input())\n",
    "\n",
    "while True:\n",
    "    year += 1\n",
    "    if len(set(str(year))) == len(str(year)):\n",
    "        print(year)\n",
    "        break"
   ]
  },
  {
   "cell_type": "markdown",
   "metadata": {},
   "source": [
    "## 7.\tMaximum Multiple\n",
    "\n",
    "Given a Divisor and a Bound, find the largest integer N, such that:<br><br>\n",
    "N is divisible by divisor<br>\n",
    "N is less than or equal to bound<br>\n",
    "N is greater than 0.<br><br>\n",
    "Notes: The divisor and bound are only positive values. It's guaranteed that a divisor is found<br>\n"
   ]
  },
  {
   "cell_type": "code",
   "execution_count": null,
   "metadata": {},
   "outputs": [],
   "source": [
    "divisor = int(input())\n",
    "bound = int(input())\n",
    "\n",
    "for n in range(bound, divisor+1, -1):\n",
    "    if n % divisor == 0:\n",
    "        print(n)\n",
    "        break"
   ]
  },
  {
   "cell_type": "code",
   "execution_count": null,
   "metadata": {},
   "outputs": [],
   "source": [
    "divisor = int(input())\n",
    "bound = int(input())\n",
    "\n",
    "print(bound // divisor * divisor)"
   ]
  },
  {
   "cell_type": "markdown",
   "metadata": {},
   "source": [
    "## 8.\tMutate Strings\n",
    "\n",
    "You will be given two strings. Transform the first string into the second one, one letter at a time and print it. Print only the unique strings<br>\n",
    "Note: the strings will have the same lengths"
   ]
  },
  {
   "cell_type": "code",
   "execution_count": null,
   "metadata": {},
   "outputs": [],
   "source": [
    "string_1 = input()\n",
    "string_2 = input()\n",
    "\n",
    "string_prev = string_1\n",
    "\n",
    "for i in range(1, len(string_1)+1):\n",
    "    string_new = string_2[:i] + string_1[i:]\n",
    "    if string_new != string_prev:\n",
    "        print(string_new)\n",
    "        string_prev = string_new"
   ]
  },
  {
   "cell_type": "markdown",
   "metadata": {},
   "source": [
    "## 9.\tEaster Cozonacs\n",
    "\n",
    "Since it’s Easter you have decided to make some cozonacs and exchange them for eggs.<br>\n",
    "Create a program that calculates how much cozonacs you can make with the budget you have. First, you will receive your budget. Then, you will receive the price for 1 kg flour. Here is the recipe for one cozonac:<br>\n",
    "Eggs\t1 pack<br>\n",
    "Flour\t1 kg<br>\n",
    "Milk\t0.250 l<br>\n",
    "The price for 1 pack of eggs is 75% of the price for 1 kg flour. The price for 1l milk is 25% more than price for 1 kg flour. Notice, that you need 0.250l milk for one cozonac and the calculated price is for 1l.<br>\n",
    "Start cooking the cozonacs and keep making them until you have enough budget. Keep in mind that:<br>\n",
    "•\tFor every cozonac that you make, you will receive 3 colored eggs. <br>\n",
    "•\tFor every 3rd cozonac that you make, you will lose some of your colored eggs after you have received the usual 3 colored eggs for your cozonac. The count of eggs you will lose is calculated when you subtract 2 from your current count of cozonacs – ({currentCozonacsCount} – 2)<br>\n",
    "In the end, print the cozonacs you made, the eggs you have gathered and the money you have left, formatted to the 2nd decimal place, in the following format:<br>\n",
    "\"You made {countOfCozonacs} cozonacs! Now you have {coloredEggs} eggs and {moneyLeft}BGN left.\"\n",
    "\n",
    "Input / Constraints<br>\n",
    "•\tOn the 1st line you will receive the budget – a real number in the range [0.0…100000.0]<br>\n",
    "•\tOn the 2nd line you will receive the price for 1 kg flour – a real number in the range [0.0…100000.0]<br>\n",
    "•\tThe input will always be in the right format.<br>\n",
    "•\tYou will always have a remaining budget.<br>\n",
    "•\tThere will not be a case in which the eggs become a negative count.\n",
    "\n",
    "Output<br>\n",
    "•\tIn the end print the count of cozonacs you have made, the colored eggs you have gathered and the money formatted to the 2nd decimal place in the format described above."
   ]
  },
  {
   "cell_type": "code",
   "execution_count": null,
   "metadata": {},
   "outputs": [],
   "source": [
    "budget = float(input())\n",
    "flour_price = float(input())\n",
    "\n",
    "eggs_price = flour_price * 0.75\n",
    "milk_price = flour_price * 1.25\n",
    "easter_cake_price = flour_price + eggs_price + milk_price / 4\n",
    "\n",
    "easter_cakes = 0\n",
    "colored_eggs = 0\n",
    "\n",
    "while budget >= 0:\n",
    "    if easter_cake_price <= budget:\n",
    "        easter_cakes += 1\n",
    "        colored_eggs += 3\n",
    "        budget -= easter_cake_price\n",
    "        if easter_cakes % 3 == 0:\n",
    "            colored_eggs -= (easter_cakes - 2)\n",
    "    else:\n",
    "        break\n",
    "\n",
    "print(f\"You made {easter_cakes} cozonacs! Now you have {colored_eggs} eggs and {budget:.2f}BGN left.\")"
   ]
  },
  {
   "cell_type": "markdown",
   "metadata": {},
   "source": [
    "## 10. Christmas Spirit \n",
    "\n",
    "It's time to get in a Christmas mood. You have to decorate the house in time for the big event, but you have limited days to do so.<br>\n",
    "You will receive allowed quantity for one type of decoration and days left until Christmas day to decorate the house.\n",
    "There are 4 types of decorations and each piece costs a price<br>\n",
    "•\tOrnament Set – 2 a piece<br>\n",
    "•\tTree Skirt – 5 a piece<br>\n",
    "•\tTree Garlands – 3 a piece<br>\n",
    "•\tTree Lights – 15 a piece<br>\n",
    "Every second day you buy an Ornament Set quantity of times and increase your Christmas spirit by 5.<br>\n",
    "Every third day you buy Tree Skirts and Tree Garlands (both quantity of times) and increase your spirit by 13.<br>\n",
    "Every fifth day you buy Tree Lights quantity of times and increase your Christmas spirit by 17. If you have bought Tree Skirts and Tree Garlands at the same day you additionally increase your spirit by 30.<br>\n",
    "Every tenth day you lose 20 spirit, because your cat ruins all tree decorations and you have to rebuild the tree and buy one piece of tree skirt, garlands and lights. That is why you are forced to increase the allowed quantity with 2 at the beginning of every eleventh day.<br>\n",
    "Also if the last day is a tenth day the cat decides to demolish even more and ruins the Christmas turkey and you lose additional 30 spirit.<br>\n",
    "At the end you must print the total cost and the gained spirit.<br>\n",
    "\n",
    "Input / Constraints<br>\n",
    "The input will consist of exactly 2 lines:<br>\n",
    "•\tquantity – integer in range [1…100]<br>\n",
    "•\tdays – integer in range [1…100]<br>\n",
    "\n",
    "Output\n",
    "At the end print the total cost and the total gained spirit in the following format:<br>\n",
    "•\t\"Total cost: {budget}\"<br>\n",
    "•\t\"Total spirit: {totalSpirit}\""
   ]
  },
  {
   "cell_type": "code",
   "execution_count": null,
   "metadata": {},
   "outputs": [],
   "source": [
    "quantity = int(input())\n",
    "days_left = int(input())\n",
    "\n",
    "ornament_set_price = 2\n",
    "tree_skirt_price = 5\n",
    "tree_garlands_price = 3\n",
    "tree_lights_price = 15\n",
    "\n",
    "christmas_spirit = 0\n",
    "total_expenses = 0\n",
    "\n",
    "for i in range(2, days_left+1):\n",
    "\n",
    "    if i % 11 == 0:\n",
    "        quantity += 2\n",
    "\n",
    "    if i % 2 == 0:\n",
    "        total_expenses += quantity * ornament_set_price\n",
    "        christmas_spirit += 5\n",
    "    if i % 3 == 0:\n",
    "        total_expenses += quantity * tree_skirt_price + quantity * tree_garlands_price\n",
    "        christmas_spirit += 13\n",
    "    if i % 5 == 0:\n",
    "        total_expenses += quantity * tree_lights_price\n",
    "        christmas_spirit += 17\n",
    "    if i % 10 == 0:\n",
    "        christmas_spirit -= 20\n",
    "        total_expenses += tree_skirt_price + tree_garlands_price + tree_lights_price\n",
    "        if i == days_left:\n",
    "            christmas_spirit -= 30\n",
    "    if i % 15 == 0:\n",
    "        christmas_spirit += 30\n",
    "\n",
    "print(f\"Total cost: {total_expenses}\")\n",
    "print(f\"Total spirit: {christmas_spirit}\")"
   ]
  }
 ],
 "metadata": {
  "kernelspec": {
   "display_name": "Python 3",
   "language": "python",
   "name": "python3"
  },
  "language_info": {
   "codemirror_mode": {
    "name": "ipython",
    "version": 3
   },
   "file_extension": ".py",
   "mimetype": "text/x-python",
   "name": "python",
   "nbconvert_exporter": "python",
   "pygments_lexer": "ipython3",
   "version": "3.7.0"
  }
 },
 "nbformat": 4,
 "nbformat_minor": 4
}
