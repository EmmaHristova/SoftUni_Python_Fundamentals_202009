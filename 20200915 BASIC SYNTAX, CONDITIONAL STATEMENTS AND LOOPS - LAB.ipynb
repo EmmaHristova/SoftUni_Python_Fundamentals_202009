{
 "cells": [
  {
   "cell_type": "markdown",
   "metadata": {},
   "source": [
    "# Lab: Basic Syntax, Conditional Statements and Loops"
   ]
  },
  {
   "cell_type": "markdown",
   "metadata": {},
   "source": [
    "## 1.\tBiggest of Three Numbers\n",
    "\n",
    "Write a program that receives three whole numbers and print the biggest one."
   ]
  },
  {
   "cell_type": "code",
   "execution_count": null,
   "metadata": {
    "scrolled": true
   },
   "outputs": [],
   "source": [
    "num1 = int(input())\n",
    "num2 = int(input())\n",
    "num3 = int(input())\n",
    "\n",
    "print(max(num1, num2, num3))"
   ]
  },
  {
   "cell_type": "markdown",
   "metadata": {},
   "source": [
    "## 2.\tNumber Definer\n",
    "\n",
    "Write a program that reads a floating-point number and prints \"zero\" if the number is zero. Otherwise, print \"positive\" or \"negative\". Add \"small\" if the absolute value of the number is less than 1, or \"large\" if it exceeds 1 000 000."
   ]
  },
  {
   "cell_type": "code",
   "execution_count": null,
   "metadata": {},
   "outputs": [],
   "source": [
    "num = float(input())\n",
    "\n",
    "if num > 0:\n",
    "    if num > 1000000:\n",
    "        print(\"large positive\")\n",
    "    elif num < 1:\n",
    "        print(\"small positive\")\n",
    "    else:\n",
    "        print(\"positive\")\n",
    "elif num < 0:\n",
    "    if num < -1000000:\n",
    "        print(\"large negative\")\n",
    "    elif num > -1:\n",
    "        print(\"small negative\")\n",
    "    else:\n",
    "        print(\"negative\")\n",
    "else:\n",
    "    print(\"zero\")"
   ]
  },
  {
   "cell_type": "markdown",
   "metadata": {},
   "source": [
    "## 3.\tWord Reverse\n",
    "\n",
    "Write a program that receives a single word from the user, reverses it and prints it."
   ]
  },
  {
   "cell_type": "code",
   "execution_count": null,
   "metadata": {},
   "outputs": [],
   "source": [
    "word = input()\n",
    "print(word[::-1])"
   ]
  },
  {
   "cell_type": "markdown",
   "metadata": {},
   "source": [
    "## 4.\tNumber Between 1 and 100\n",
    "\n",
    "Write a program which reads numbers from the console until it receives a number between 1 and 100 inclusive. When the correct number is received, stop reading and print \"The number {number} is between 1 and 100\"."
   ]
  },
  {
   "cell_type": "code",
   "execution_count": null,
   "metadata": {},
   "outputs": [],
   "source": [
    "while True:\n",
    "    num = float(input())\n",
    "    if 1 <= num <= 100:\n",
    "        break\n",
    "\n",
    "print(f\"The number {num} is between 1 and 100\")"
   ]
  },
  {
   "cell_type": "markdown",
   "metadata": {},
   "source": [
    "## 5.\tPatterns\n",
    "\n",
    "Write a program to create the following pattern:"
   ]
  },
  {
   "cell_type": "raw",
   "metadata": {},
   "source": [
    "*\n",
    "**\n",
    "***\n",
    "**\n",
    "*"
   ]
  },
  {
   "cell_type": "markdown",
   "metadata": {},
   "source": [
    "You will receive a number that represents the highest number of stars."
   ]
  },
  {
   "cell_type": "code",
   "execution_count": null,
   "metadata": {},
   "outputs": [],
   "source": [
    "n = int(input())\n",
    "\n",
    "for i in range(1, n+1):\n",
    "    print(\"*\" * i)\n",
    "for j in range(n-1, 0, -1):\n",
    "    print(\"*\" * j)"
   ]
  }
 ],
 "metadata": {
  "kernelspec": {
   "display_name": "Python 3",
   "language": "python",
   "name": "python3"
  },
  "language_info": {
   "codemirror_mode": {
    "name": "ipython",
    "version": 3
   },
   "file_extension": ".py",
   "mimetype": "text/x-python",
   "name": "python",
   "nbconvert_exporter": "python",
   "pygments_lexer": "ipython3",
   "version": "3.7.0"
  }
 },
 "nbformat": 4,
 "nbformat_minor": 4
}
