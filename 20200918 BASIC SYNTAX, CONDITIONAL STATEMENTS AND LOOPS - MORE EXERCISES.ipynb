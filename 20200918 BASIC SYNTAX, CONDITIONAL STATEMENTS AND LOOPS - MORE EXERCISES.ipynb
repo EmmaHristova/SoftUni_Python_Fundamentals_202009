{
 "cells": [
  {
   "cell_type": "markdown",
   "metadata": {},
   "source": [
    "# More Exercises: Basic Syntax, Conditional Statements and Loops"
   ]
  },
  {
   "cell_type": "markdown",
   "metadata": {},
   "source": [
    "## 1.\tFind the Largest\n",
    "\n",
    "Given a number, print the largest number that can be formed from the digits of the given number."
   ]
  },
  {
   "cell_type": "code",
   "execution_count": null,
   "metadata": {},
   "outputs": [],
   "source": [
    "number = input()\n",
    "\n",
    "digits = [int(x) for x in number]\n",
    "digits.sort(reverse=True)\n",
    "\n",
    "result = \"\"\n",
    "\n",
    "for i in range(len(digits)):\n",
    "    result += str(digits[i])\n",
    "\n",
    "print(result)"
   ]
  },
  {
   "cell_type": "markdown",
   "metadata": {},
   "source": [
    "## 2.\tFind the Capitals\n",
    "\n",
    "Write a program that takes a single string and prints a list of all the indices of all the capital letters."
   ]
  },
  {
   "cell_type": "code",
   "execution_count": null,
   "metadata": {},
   "outputs": [],
   "source": [
    "string = input()\n",
    "capital_letters = []\n",
    "\n",
    "for i in range(len(string)):\n",
    "   if string[i].isupper():\n",
    "       capital_letters.append(i)\n",
    "\n",
    "print(capital_letters)"
   ]
  },
  {
   "cell_type": "markdown",
   "metadata": {},
   "source": [
    "## 3.\tWolf in Sheep's Clothing\n",
    "\n",
    "Wolves have been reintroduced to Great Britain. You are a sheep farmer and are now plagued by wolves which pretend to be sheep. Fortunately, you are good at spotting them.<br>\n",
    "Warn the sheep in front of the wolf that it is about to be eaten. Remember that you are standing at the front of the queue which is at the end of the list:<br>\n",
    "[sheep, sheep, wolf, sheep, sheep] (YOU ARE HERE AT THE FRONT OF THE QUEUE)\n",
    "   4      3            2      1\n",
    "If the wolf is the closest animal to you, print \"Please go away and stop eating my sheep\". Otherwise, return \"Oi! Sheep number N! You are about to be eaten by a wolf!\" where N is the sheep's position in the queue.\n",
    "Note: there will always be exactly one wolf in the list.<\n",
    "\n",
    "Input<br>\n",
    "The input will be a single string containing the animals separated by comma and a single space \", \""
   ]
  },
  {
   "cell_type": "code",
   "execution_count": null,
   "metadata": {},
   "outputs": [],
   "source": [
    "queue = input()\n",
    "queue_list = queue.split(sep=\", \")\n",
    "\n",
    "for i in range(len(queue_list)):\n",
    "    if queue_list[i] == \"wolf\":\n",
    "        if i == len(queue_list)-1:\n",
    "            print(\"Please go away and stop eating my sheep\")\n",
    "        else:\n",
    "            print(f\"Oi! Sheep number {len(queue_list)-1-i}! You are about to be eaten by a wolf!\")"
   ]
  },
  {
   "cell_type": "markdown",
   "metadata": {},
   "source": [
    "## 4.\tSum of a Beach\n",
    "\n",
    "Beaches are filled with sand, water, fish, and sun. Given a string, calculate how many times the words \"Sand\", \"Water\", \"Fish\", and \"Sun\" appear (case insensitive)."
   ]
  },
  {
   "cell_type": "code",
   "execution_count": null,
   "metadata": {},
   "outputs": [],
   "source": [
    "string = input()\n",
    "string_lower = string.lower()\n",
    "keywords = ['sand', 'water', 'fish', 'sun']\n",
    "count = 0\n",
    "\n",
    "for keyword in keywords:\n",
    "    count += string_lower.count(keyword)\n",
    "\n",
    "print(count)"
   ]
  },
  {
   "cell_type": "markdown",
   "metadata": {},
   "source": [
    "## 5.\tHow Much Coffee Do You Need?\n",
    "\n",
    "Everybody knows that you passed to much time awake during night time...<br>\n",
    "Your task is to define how much coffee you need to stay awake after your night. Until you receive the command \"END\", you need to read a single command. According to this command you will print the number of coffee you need to stay awake during day time.\n",
    "\n",
    "Note: If the count exceeds 5 please return 'You need extra sleep'.\n",
    "\n",
    "The list of events can contain the following:<br>\n",
    "•\tYou have homework to do ('coding').<br>\n",
    "•\tYou have a dog or a cat that just decided to wake up too early ('dog' or 'cat').<br>\n",
    "•\tYou just watch a movie ('movie').<br>\n",
    "•\tOther events can be present and it will be represent by arbitrary string, just ignore this one.\n",
    "\n",
    "Each event can be lowercase, or uppercase. If it is lowercase you need 1 coffee by event and if it is uppercase you need 2 coffees."
   ]
  },
  {
   "cell_type": "code",
   "execution_count": null,
   "metadata": {},
   "outputs": [],
   "source": [
    "coffee = 0\n",
    "\n",
    "while True:\n",
    "    command = input()\n",
    "    if command.lower() in [\"coding\", \"dog\", \"cat\", \"movie\"]:\n",
    "        if command.islower():\n",
    "            coffee += 1\n",
    "        else:\n",
    "            coffee += 2\n",
    "    elif command == \"END\":\n",
    "        break\n",
    "\n",
    "if coffee <= 5:\n",
    "    print(coffee)\n",
    "else:\n",
    "    print(\"You need extra sleep\")"
   ]
  }
 ],
 "metadata": {
  "kernelspec": {
   "display_name": "Python 3",
   "language": "python",
   "name": "python3"
  },
  "language_info": {
   "codemirror_mode": {
    "name": "ipython",
    "version": 3
   },
   "file_extension": ".py",
   "mimetype": "text/x-python",
   "name": "python",
   "nbconvert_exporter": "python",
   "pygments_lexer": "ipython3",
   "version": "3.7.0"
  }
 },
 "nbformat": 4,
 "nbformat_minor": 4
}
